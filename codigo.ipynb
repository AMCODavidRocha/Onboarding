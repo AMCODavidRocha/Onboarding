{
 "cells": [
  {
   "cell_type": "markdown",
   "metadata": {},
   "source": [
    "# <label style=\"color: yellow\">GIT/GitHub</label>"
   ]
  },
  {
   "cell_type": "markdown",
   "metadata": {},
   "source": [
    "* <label style=\"color: yellow\"><h3>Configuracion de Git en la maquina...</h3></label>\n",
    "* git --global user.name \"DavidRocha\"\n",
    "* git --global user.email \"davidll@amcoonline.met"
   ]
  },
  {
   "cell_type": "markdown",
   "metadata": {},
   "source": [
    "* <label style=\"color: yellow\"><h3>Inicializacion del proyecto...</h3></label>\n",
    "* mkdir \"GIT\"\n",
    "* git init"
   ]
  },
  {
   "cell_type": "markdown",
   "metadata": {},
   "source": [
    "* <label style=\"color: yellow\"><h3>Se crea el primer commit con el .gitignore</h3></label>\n",
    "* git add .gitignore\n",
    "* git commit -m \"Primer commit con el .gitignore\"\n",
    "* git commit -m \"Se agrego el archivo readme.md\""
   ]
  },
  {
   "cell_type": "markdown",
   "metadata": {},
   "source": [
    "* <label style=\"color: yellow\"><h3>Git checkout</h3></label>\n",
    "* git add codigo.ipynb\n",
    "* git checkout codigo.ipynb para sacarlo del stage y volver a modificarlo antes del commit\n",
    "* git commit -m \"Se creo archivo codgo con zona junk vacia\"\n",
    "* git commit -m \"Se agrego contenigo a la zona junk\"\n",
    "* git checkout al hash anterior donde no se tenia codigo en la zona junk\n",
    "* git checkout al hash mas nuevo y se recupero lo escrito en la zona junk"
   ]
  },
  {
   "cell_type": "markdown",
   "metadata": {},
   "source": [
    "* <label style=\"color: yellow\"><h3>Se crea rama login</h3></label>\n",
    "* git branch login"
   ]
  },
  {
   "cell_type": "markdown",
   "metadata": {},
   "source": [
    "* <label style=\"color: yellow\"><h3>Movimientos entre ramas</h3></label>\n",
    "* git switch login\n",
    "* Se creo el archivo login.ipynb\n",
    "* Se comento el archivo codigo.ipynb\n",
    "* Nos regresamos a la rama master\n",
    "* Se agregan estas lineas de codigo y se crea el archivo master.ipyng"
   ]
  },
  {
   "cell_type": "markdown",
   "metadata": {},
   "source": [
    "* <label style=\"color: yellow\"><h3>***Zona Junk de pruebas***</h3></label>"
   ]
  },
  {
   "cell_type": "code",
   "execution_count": null,
   "metadata": {},
   "outputs": [],
   "source": [
    "Se agrego este contenido a la zona junk para hacer checkout a un estado anterior sin contenido en zona junk..."
   ]
  }
 ],
 "metadata": {
  "kernelspec": {
   "display_name": ".venv",
   "language": "python",
   "name": "python3"
  },
  "language_info": {
   "codemirror_mode": {
    "name": "ipython",
    "version": 3
   },
   "file_extension": ".py",
   "mimetype": "text/x-python",
   "name": "python",
   "nbconvert_exporter": "python",
   "pygments_lexer": "ipython3",
   "version": "3.12.5"
  }
 },
 "nbformat": 4,
 "nbformat_minor": 2
}
