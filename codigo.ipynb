{
 "cells": [
  {
   "cell_type": "markdown",
   "metadata": {},
   "source": [
    "# <label style=\"color: yellow\">GIT/GitHub</label>"
   ]
  },
  {
   "cell_type": "markdown",
   "metadata": {},
   "source": [
    "* <label style=\"color: yellow\"><h3>Configuracion de Git en la maquina...</h3></label>\n",
    "* git --global user.name \"DavidRocha\"\n",
    "* git --global user.email \"davidll@amcoonline.met"
   ]
  },
  {
   "cell_type": "markdown",
   "metadata": {},
   "source": [
    "* <label style=\"color: yellow\"><h3>Inicializacion del proyecto...</h3></label>\n",
    "* mkdir \"GIT\"\n",
    "* git init"
   ]
  },
  {
   "cell_type": "markdown",
   "metadata": {},
   "source": [
    "* <label style=\"color: yellow\"><h3>Se crea el primer commit con el .gitignore</h3></label>\n",
    "* git add .gitignore\n",
    "* git commit -m \"Primer commit con el .gitignore\"\n",
    "* git commit -m \"Se agrego el archivo readme.md\""
   ]
  },
  {
   "cell_type": "markdown",
   "metadata": {},
   "source": [
    "* <label style=\"color: yellow\"><h3>***Zona Junk de pruebas***</h3></label>"
   ]
  },
  {
   "cell_type": "code",
   "execution_count": null,
   "metadata": {
    "vscode": {
     "languageId": "plaintext"
    }
   },
   "outputs": [],
   "source": [
    "Se agrego este contenido a la zona junk para hacer checkout a un estado anterior sin contenido en zona junk..."
   ]
  }
 ],
 "metadata": {
  "kernelspec": {
   "display_name": ".venv",
   "language": "python",
   "name": "python3"
  },
  "language_info": {
   "codemirror_mode": {
    "name": "ipython",
    "version": 3
   },
   "file_extension": ".py",
   "mimetype": "text/x-python",
   "name": "python",
   "nbconvert_exporter": "python",
   "pygments_lexer": "ipython3",
   "version": "3.12.5"
  }
 },
 "nbformat": 4,
 "nbformat_minor": 2
}
