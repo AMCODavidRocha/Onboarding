{
 "cells": [
  {
   "cell_type": "markdown",
   "metadata": {},
   "source": [
    "# <label style=\"color: yellow\">GIT/GitHub</label>"
   ]
  },
  {
   "cell_type": "markdown",
   "metadata": {},
   "source": [
    "* <label style=\"color: yellow\"><h3>Configuracion de Git en la maquina...</h3></label>\n",
    "* git --global user.name \"DavidRocha\"\n",
    "* git --global user.email \"davidll@amcoonline.met"
   ]
  },
  {
   "cell_type": "markdown",
   "metadata": {},
   "source": [
    "* <label style=\"color: yellow\"><h3>Inicializacion del proyecto...</h3></label>\n",
    "* mkdir \"GIT\"\n",
    "* git init"
   ]
  },
  {
   "cell_type": "markdown",
   "metadata": {},
   "source": [
    "* <label style=\"color: yellow\"><h3>Se crea el primer commit con el .gitignore</h3></label>\n",
    "* git add .gitignore\n",
    "* git commit -m \"Primer commit con el .gitignore\"\n",
    "* git commit -m \"Se agrego el archivo readme.md\""
   ]
  },
  {
   "cell_type": "markdown",
   "metadata": {},
   "source": [
    "* <label style=\"color: yellow\"><h3>Git checkout</h3></label>\n",
    "* git add codigo.ipynb\n",
    "* git checkout codigo.ipynb para sacarlo del stage y volver a modificarlo antes del commit\n",
    "* git commit -m \"Se creo archivo codgo con zona junk vacia\"\n",
    "* git commit -m \"Se agrego contenigo a la zona junk\"\n",
    "* git checkout al hash anterior donde no se tenia codigo en la zona junk\n",
    "* git checkout al hash mas nuevo y se recupero lo escrito en la zona junk"
   ]
  },
  {
   "cell_type": "markdown",
   "metadata": {},
   "source": [
    "* <label style=\"color: yellow\"><h3>Se crea rama login</h3></label>\n",
    "* git branch login"
   ]
  },
  {
   "cell_type": "markdown",
   "metadata": {},
   "source": [
    "* <label style=\"color: yellow\"><h3>Movimientos entre ramas</h3></label>\n",
    "* git switch login\n",
    "* Se creo el archivo login.ipynb\n",
    "* Se comento el archivo codigo.ipynb\n",
    "* Nos regresamos a la rama master\n",
    "* Se agregan estas lineas de codigo y se crea el archivo master.ipyng"
   ]
  },
  {
   "cell_type": "markdown",
   "metadata": {},
   "source": [
    "* <label style=\"color: yellow\"><h3>Configuracion de SSH local</h3></label>\n",
    "* ls -al ~/.ssh --> para revisar si ya tenemos alguna clave o no\n",
    "* ssh-keygen -t ed25519 -C \"davidll @ amcoonline . net\"  --> generamos una clave publica y una privada con nombre id_rsa y sin clave y se genera los archivos id_rsa e id_rsa.pub\n",
    "* WARNING, en el punto anterior no tenia permisos de escritura para crear la carpeta .ssh, por lo que tuve que usar el finder y crear una capeta con el nombre \"cualquiera\"\n",
    "* mv cualquiera .ssh  --> para cambiar el nombre a .ssh y asi poder terminar la generacion de las claves.\n",
    "* eval \"$(ssh-agent -s)\"  --> iniciamos el agente ssh en segundo plano\n",
    "* touch ~/.ssh/config  --> abrimos el archivo de config y si no existe lo creamos en la carpeta .ssh\n",
    "* Host github.com\n",
    "  AddKeysToAgent yes\n",
    "  UseKeychain yes\n",
    "  IdentityFile ~/.ssh/id_rsa  --> le añadimos lo siguiente al config y guardamos\n",
    "* ssh-add --apple-use-keychain ~/.ssh/id_rsa  --> añadimos el ssh al llavero del sistema"
   ]
  },
  {
   "cell_type": "markdown",
   "metadata": {},
   "source": [
    "* <label style=\"color: yellow\"><h3>Configuracion de SSH GitHub</h3></label>\n",
    "* Vamos directo a la imagen del perfil y seleccionamos Settings\n",
    "* nos movemos a la seccion SSH and GPG keys\n",
    "* presionamos la opcion \"New SSH key\"\n",
    "* agregamos lo que tenemos en el documento id_rsa.pub a la seccion de \"key\" y pulsamos \"ADD SSH key\", con la opcion de \"key type\" en: Authentication key\n",
    "* regresamos a la consola y probamos la conexion:\n",
    "* ssh -T git@github.com --> la primera vez nos pregunta si la queremos añadir y aceptar, ingresamos \"yes\""
   ]
  },
  {
   "cell_type": "markdown",
   "metadata": {},
   "source": [
    "* <label style=\"color: yellow\"><h3>Asignamos nuestro Git a un repositorio de GitHub</h3></label>\n",
    "* Creamos un nuevo repositorio en GitHub con el nombre que queramos\n",
    "* compiamos la linea de codigo que indica el \"quick setup\" en la termanal desde la carpeta del Git\n",
    "* git remote add origin git@github.com:AMCODavidRocha/Onboarding.git\n",
    "* git push -u origin main  --> por ultimo mediante push subimos todo nuestro Git a GitHub y damos refresh a la pagina en la que estabamos y veremos los archivos"
   ]
  },
  {
   "cell_type": "markdown",
   "metadata": {},
   "source": [
    "* <label style=\"color: yellow\"><h3>***Zona Junk de pruebas***</h3></label>"
   ]
  },
  {
   "cell_type": "markdown",
   "metadata": {},
   "source": [
    "Se agrego este contenido a la zona junk para hacer checkout a un estado anterior sin contenido en zona junk..."
   ]
  }
 ],
 "metadata": {
  "kernelspec": {
   "display_name": ".venv",
   "language": "python",
   "name": "python3"
  },
  "language_info": {
   "codemirror_mode": {
    "name": "ipython",
    "version": 3
   },
   "file_extension": ".py",
   "mimetype": "text/x-python",
   "name": "python",
   "nbconvert_exporter": "python",
   "pygments_lexer": "ipython3",
   "version": "3.12.5"
  }
 },
 "nbformat": 4,
 "nbformat_minor": 2
}
